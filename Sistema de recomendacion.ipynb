{
 "cells": [
  {
   "cell_type": "code",
   "execution_count": 4,
   "metadata": {},
   "outputs": [],
   "source": [
    "import pandas as pd\n",
    "from sklearn.metrics.pairwise import cosine_similarity"
   ]
  },
  {
   "cell_type": "code",
   "execution_count": 21,
   "metadata": {},
   "outputs": [],
   "source": [
    "# Cargo los dataframes\n",
    "df_plataformas = pd.read_csv('plataformas.csv')\n",
    "df_scores = pd.read_csv('scores.csv')"
   ]
  },
  {
   "cell_type": "code",
   "execution_count": 22,
   "metadata": {},
   "outputs": [],
   "source": [
    "# Calculo el rating promedio de cada película y lo agrego al dataframe de películas\n",
    "movie_ratings = df_scores.groupby(\"movieId\")[\"score\"].mean()\n",
    "movies_df = df_plataformas.join(movie_ratings, on=\"id\")"
   ]
  },
  {
   "cell_type": "code",
   "execution_count": 23,
   "metadata": {},
   "outputs": [],
   "source": [
    "# Elimino duplicados\n",
    "df_scores = df_scores.drop_duplicates(subset=[\"userId\", \"movieId\"])"
   ]
  },
  {
   "cell_type": "code",
   "execution_count": null,
   "metadata": {},
   "outputs": [],
   "source": [
    "# Creo una matriz de ratings, donde las filas son usuarios y las columnas son películas\n",
    "ratings_matrix = df_scores.pivot(index=\"userId\", columns=\"movieId\", values=\"score\")"
   ]
  },
  {
   "cell_type": "code",
   "execution_count": null,
   "metadata": {},
   "outputs": [],
   "source": [
    "# Calculo la similitud entre los usuarios utilizando la distancia del coseno\n",
    "user_similarity = cosine_similarity(ratings_matrix)"
   ]
  },
  {
   "cell_type": "code",
   "execution_count": null,
   "metadata": {},
   "outputs": [],
   "source": [
    "# Creo una función para obtener las películas mejor valoradas por los usuarios similares\n",
    "def get_similar_movies(userId, num_similar_users=5, num_recommendations=5):\n",
    "    # Obtengo los usuarios más similares al usuario actual\n",
    "    similar_users = pd.Series(user_similarity[userId]).sort_values(ascending=False)[1:num_similar_users+1].index\n",
    "    # Obtengo las películas vistas por los usuarios similares que el usuario actual no haya visto aún\n",
    "    similar_users_ratings = ratings_matrix.loc[similar_users]\n",
    "    user_ratings = ratings_matrix.loc[userId]\n",
    "    movies_to_recommend = similar_users_ratings[user_ratings.isnull()].sum().sort_values(ascending=False)[:num_recommendations]\n",
    "    # Agrego información de las películas recomendadas\n",
    "    recommendations_df = pd.DataFrame(movies_to_recommend, columns=[\"score\"])\n",
    "    recommendations_df = recommendations_df.join(movies_df.set_index(\"movieId\"))\n",
    "    return recommendations_df\n",
    "\n",
    "# Ejemplo de recomendación para el usuario con id 1\n",
    "get_similar_movies(1)"
   ]
  }
 ],
 "metadata": {
  "kernelspec": {
   "display_name": "Python 3",
   "language": "python",
   "name": "python3"
  },
  "language_info": {
   "codemirror_mode": {
    "name": "ipython",
    "version": 3
   },
   "file_extension": ".py",
   "mimetype": "text/x-python",
   "name": "python",
   "nbconvert_exporter": "python",
   "pygments_lexer": "ipython3",
   "version": "3.10.6"
  },
  "orig_nbformat": 4
 },
 "nbformat": 4,
 "nbformat_minor": 2
}
